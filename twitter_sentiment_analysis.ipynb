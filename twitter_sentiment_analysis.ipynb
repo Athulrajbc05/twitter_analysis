{
 "cells": [
  {
   "cell_type": "code",
   "execution_count": 1,
   "id": "e581d0c3",
   "metadata": {},
   "outputs": [],
   "source": [
    "import pandas as pd\n",
    "import numpy as np\n",
    "import re\n",
    "from tensorflow.keras.preprocessing.text import Tokenizer\n",
    "from tensorflow.keras.preprocessing.sequence import pad_sequences\n",
    "from tensorflow.keras.layers import Embedding, LSTM, Dense\n",
    "from tensorflow.keras.models import Sequential\n",
    "from tensorflow.keras.optimizers import Adam\n",
    "\n",
    "\n"
   ]
  },
  {
   "cell_type": "code",
   "execution_count": 2,
   "id": "f0cb20f5",
   "metadata": {},
   "outputs": [
    {
     "data": {
      "text/html": [
       "<div>\n",
       "<style scoped>\n",
       "    .dataframe tbody tr th:only-of-type {\n",
       "        vertical-align: middle;\n",
       "    }\n",
       "\n",
       "    .dataframe tbody tr th {\n",
       "        vertical-align: top;\n",
       "    }\n",
       "\n",
       "    .dataframe thead th {\n",
       "        text-align: right;\n",
       "    }\n",
       "</style>\n",
       "<table border=\"1\" class=\"dataframe\">\n",
       "  <thead>\n",
       "    <tr style=\"text-align: right;\">\n",
       "      <th></th>\n",
       "      <th>Tweets</th>\n",
       "      <th>label</th>\n",
       "    </tr>\n",
       "  </thead>\n",
       "  <tbody>\n",
       "    <tr>\n",
       "      <th>0</th>\n",
       "      <td>Asked #ChatGPT about what it thinks are the pr...</td>\n",
       "      <td>Positive</td>\n",
       "    </tr>\n",
       "    <tr>\n",
       "      <th>1</th>\n",
       "      <td>#ChatGPT tornado has already traveled around t...</td>\n",
       "      <td>Neutral</td>\n",
       "    </tr>\n",
       "    <tr>\n",
       "      <th>2</th>\n",
       "      <td>This is a great explanation of why #EVs are mo...</td>\n",
       "      <td>Positive</td>\n",
       "    </tr>\n",
       "    <tr>\n",
       "      <th>3</th>\n",
       "      <td>‘if you need to write a box-ticking social med...</td>\n",
       "      <td>Positive</td>\n",
       "    </tr>\n",
       "    <tr>\n",
       "      <th>4</th>\n",
       "      <td>Just saw an AI tool making my coffee for me. \\...</td>\n",
       "      <td>Positive</td>\n",
       "    </tr>\n",
       "  </tbody>\n",
       "</table>\n",
       "</div>"
      ],
      "text/plain": [
       "                                              Tweets     label\n",
       "0  Asked #ChatGPT about what it thinks are the pr...  Positive\n",
       "1  #ChatGPT tornado has already traveled around t...   Neutral\n",
       "2  This is a great explanation of why #EVs are mo...  Positive\n",
       "3  ‘if you need to write a box-ticking social med...  Positive\n",
       "4  Just saw an AI tool making my coffee for me. \\...  Positive"
      ]
     },
     "execution_count": 2,
     "metadata": {},
     "output_type": "execute_result"
    }
   ],
   "source": [
    "# Load the dataset\n",
    "df = pd.read_csv(r'C:\\Users\\ATHULRAJ B C\\Downloads\\train.csv')  # Assuming the dataset file name is 'twitter_data.csv'\n",
    "df.head()\n"
   ]
  },
  {
   "cell_type": "code",
   "execution_count": 3,
   "id": "db3397f7",
   "metadata": {},
   "outputs": [
    {
     "name": "stdout",
     "output_type": "stream",
     "text": [
      "object\n"
     ]
    }
   ],
   "source": [
    "print(df[\"Tweets\"].dtype)\n"
   ]
  },
  {
   "cell_type": "code",
   "execution_count": 4,
   "id": "728a0f3f",
   "metadata": {},
   "outputs": [],
   "source": [
    "df[\"Tweets\"] = df[\"Tweets\"].astype(str)\n"
   ]
  },
  {
   "cell_type": "code",
   "execution_count": 5,
   "id": "40c344e8",
   "metadata": {},
   "outputs": [],
   "source": [
    "def clean_text(text):\n",
    "    text = re.sub(r\"[^a-zA-Z0-9\\s]\", \"\", text)\n",
    "    text = text.lower()\n",
    "    text = re.sub(r\"\\s+\", \" \", text)\n",
    "    return text\n",
    "\n",
    "df[\"Cleaned_Tweets\"] = df[\"Tweets\"].apply(clean_text)\n"
   ]
  },
  {
   "cell_type": "code",
   "execution_count": 6,
   "id": "15211c2e",
   "metadata": {},
   "outputs": [
    {
     "data": {
      "text/html": [
       "<div>\n",
       "<style scoped>\n",
       "    .dataframe tbody tr th:only-of-type {\n",
       "        vertical-align: middle;\n",
       "    }\n",
       "\n",
       "    .dataframe tbody tr th {\n",
       "        vertical-align: top;\n",
       "    }\n",
       "\n",
       "    .dataframe thead th {\n",
       "        text-align: right;\n",
       "    }\n",
       "</style>\n",
       "<table border=\"1\" class=\"dataframe\">\n",
       "  <thead>\n",
       "    <tr style=\"text-align: right;\">\n",
       "      <th></th>\n",
       "      <th>Tweets</th>\n",
       "      <th>label</th>\n",
       "      <th>Cleaned_Tweets</th>\n",
       "    </tr>\n",
       "  </thead>\n",
       "  <tbody>\n",
       "    <tr>\n",
       "      <th>0</th>\n",
       "      <td>Asked #ChatGPT about what it thinks are the pr...</td>\n",
       "      <td>Positive</td>\n",
       "      <td>asked chatgpt about what it thinks are the pro...</td>\n",
       "    </tr>\n",
       "    <tr>\n",
       "      <th>1</th>\n",
       "      <td>#ChatGPT tornado has already traveled around t...</td>\n",
       "      <td>Neutral</td>\n",
       "      <td>chatgpt tornado has already traveled around th...</td>\n",
       "    </tr>\n",
       "    <tr>\n",
       "      <th>2</th>\n",
       "      <td>This is a great explanation of why #EVs are mo...</td>\n",
       "      <td>Positive</td>\n",
       "      <td>this is a great explanation of why evs are mor...</td>\n",
       "    </tr>\n",
       "    <tr>\n",
       "      <th>3</th>\n",
       "      <td>‘if you need to write a box-ticking social med...</td>\n",
       "      <td>Positive</td>\n",
       "      <td>if you need to write a boxticking social media...</td>\n",
       "    </tr>\n",
       "    <tr>\n",
       "      <th>4</th>\n",
       "      <td>Just saw an AI tool making my coffee for me. \\...</td>\n",
       "      <td>Positive</td>\n",
       "      <td>just saw an ai tool making my coffee for me ch...</td>\n",
       "    </tr>\n",
       "  </tbody>\n",
       "</table>\n",
       "</div>"
      ],
      "text/plain": [
       "                                              Tweets     label  \\\n",
       "0  Asked #ChatGPT about what it thinks are the pr...  Positive   \n",
       "1  #ChatGPT tornado has already traveled around t...   Neutral   \n",
       "2  This is a great explanation of why #EVs are mo...  Positive   \n",
       "3  ‘if you need to write a box-ticking social med...  Positive   \n",
       "4  Just saw an AI tool making my coffee for me. \\...  Positive   \n",
       "\n",
       "                                      Cleaned_Tweets  \n",
       "0  asked chatgpt about what it thinks are the pro...  \n",
       "1  chatgpt tornado has already traveled around th...  \n",
       "2  this is a great explanation of why evs are mor...  \n",
       "3  if you need to write a boxticking social media...  \n",
       "4  just saw an ai tool making my coffee for me ch...  "
      ]
     },
     "execution_count": 6,
     "metadata": {},
     "output_type": "execute_result"
    }
   ],
   "source": [
    "df.head()"
   ]
  },
  {
   "cell_type": "code",
   "execution_count": 9,
   "id": "37cbcc70",
   "metadata": {},
   "outputs": [
    {
     "name": "stdout",
     "output_type": "stream",
     "text": [
      "Index(['Tweets', 'label', 'Cleaned_Tweets'], dtype='object')\n"
     ]
    }
   ],
   "source": [
    "print(df.columns)\n"
   ]
  },
  {
   "cell_type": "code",
   "execution_count": 10,
   "id": "283a1964",
   "metadata": {},
   "outputs": [],
   "source": [
    "df[\"sentiment\"] = pd.Series([None] * len(df))  # Fill with None or placeholder\n"
   ]
  },
  {
   "cell_type": "code",
   "execution_count": 11,
   "id": "fda7f3f0",
   "metadata": {},
   "outputs": [],
   "source": [
    "sentiment = {\"positive\": 1, \"neutral\": 0, \"negative\": -1}\n",
    "# Ensure your column values are exactly \"positive\", \"neutral\", or \"negative\"\n"
   ]
  },
  {
   "cell_type": "code",
   "execution_count": 12,
   "id": "12484309",
   "metadata": {},
   "outputs": [],
   "source": [
    "df[\"label\"] = df[\"label\"].map(sentiment)"
   ]
  },
  {
   "cell_type": "code",
   "execution_count": 18,
   "id": "fed65aed",
   "metadata": {},
   "outputs": [],
   "source": [
    "from sklearn.model_selection import train_test_split\n",
    "\n",
    "X_train, X_test, y_train, y_test = train_test_split(df[\"Cleaned_Tweets\"], df[\"label\"], test_size=0.2)\n"
   ]
  },
  {
   "cell_type": "code",
   "execution_count": 27,
   "id": "4ddac76a",
   "metadata": {},
   "outputs": [
    {
     "data": {
      "text/html": [
       "<div>\n",
       "<style scoped>\n",
       "    .dataframe tbody tr th:only-of-type {\n",
       "        vertical-align: middle;\n",
       "    }\n",
       "\n",
       "    .dataframe tbody tr th {\n",
       "        vertical-align: top;\n",
       "    }\n",
       "\n",
       "    .dataframe thead th {\n",
       "        text-align: right;\n",
       "    }\n",
       "</style>\n",
       "<table border=\"1\" class=\"dataframe\">\n",
       "  <thead>\n",
       "    <tr style=\"text-align: right;\">\n",
       "      <th></th>\n",
       "      <th>Tweets</th>\n",
       "      <th>label</th>\n",
       "      <th>Cleaned_Tweets</th>\n",
       "    </tr>\n",
       "  </thead>\n",
       "  <tbody>\n",
       "    <tr>\n",
       "      <th>0</th>\n",
       "      <td>Asked #ChatGPT about what it thinks are the pr...</td>\n",
       "      <td>Positive</td>\n",
       "      <td>asked chatgpt about what it thinks are the pro...</td>\n",
       "    </tr>\n",
       "    <tr>\n",
       "      <th>1</th>\n",
       "      <td>#ChatGPT tornado has already traveled around t...</td>\n",
       "      <td>Neutral</td>\n",
       "      <td>chatgpt tornado has already traveled around th...</td>\n",
       "    </tr>\n",
       "    <tr>\n",
       "      <th>2</th>\n",
       "      <td>This is a great explanation of why #EVs are mo...</td>\n",
       "      <td>Positive</td>\n",
       "      <td>this is a great explanation of why evs are mor...</td>\n",
       "    </tr>\n",
       "    <tr>\n",
       "      <th>3</th>\n",
       "      <td>‘if you need to write a box-ticking social med...</td>\n",
       "      <td>Positive</td>\n",
       "      <td>if you need to write a boxticking social media...</td>\n",
       "    </tr>\n",
       "    <tr>\n",
       "      <th>4</th>\n",
       "      <td>Just saw an AI tool making my coffee for me. \\...</td>\n",
       "      <td>Positive</td>\n",
       "      <td>just saw an ai tool making my coffee for me ch...</td>\n",
       "    </tr>\n",
       "  </tbody>\n",
       "</table>\n",
       "</div>"
      ],
      "text/plain": [
       "                                              Tweets     label  \\\n",
       "0  Asked #ChatGPT about what it thinks are the pr...  Positive   \n",
       "1  #ChatGPT tornado has already traveled around t...   Neutral   \n",
       "2  This is a great explanation of why #EVs are mo...  Positive   \n",
       "3  ‘if you need to write a box-ticking social med...  Positive   \n",
       "4  Just saw an AI tool making my coffee for me. \\...  Positive   \n",
       "\n",
       "                                      Cleaned_Tweets  \n",
       "0  asked chatgpt about what it thinks are the pro...  \n",
       "1  chatgpt tornado has already traveled around th...  \n",
       "2  this is a great explanation of why evs are mor...  \n",
       "3  if you need to write a boxticking social media...  \n",
       "4  just saw an ai tool making my coffee for me ch...  "
      ]
     },
     "execution_count": 27,
     "metadata": {},
     "output_type": "execute_result"
    }
   ],
   "source": [
    "df.head()"
   ]
  },
  {
   "cell_type": "code",
   "execution_count": 20,
   "id": "3d5cffe4",
   "metadata": {},
   "outputs": [],
   "source": [
    "tokenizer = Tokenizer(num_words=10000)  \n",
    "tokenizer.fit_on_texts(X_train)\n",
    "\n",
    "X_train_seq = tokenizer.texts_to_sequences(X_train)\n",
    "X_test_seq = tokenizer.texts_to_sequences(X_test)\n",
    "\n",
    "maxlen = max(len(seq) for seq in X_train_seq)  # Maximum sequence length\n",
    "X_train_pad = pad_sequences(X_train_seq, maxlen=maxlen)\n",
    "X_test_pad = pad_sequences(X_test_seq, maxlen=maxlen)\n"
   ]
  },
  {
   "cell_type": "code",
   "execution_count": 21,
   "id": "ea7e3dec",
   "metadata": {},
   "outputs": [],
   "source": [
    "model = Sequential()\n",
    "model.add(Embedding(10000, 128, input_length=maxlen))  # Adjust embedding dimensions\n",
    "model.add(LSTM(64, return_sequences=True))  # Adjust LSTM units\n",
    "model.add(LSTM(32))  # Adjust LSTM units\n",
    "model.add(Dense(3, activation=\"softmax\"))  # Output layer for 3 sentiment classes\n",
    "\n",
    "model.compile(loss=\"sparse_categorical_crossentropy\", optimizer=Adam(learning_rate=0.001))\n"
   ]
  },
  {
   "cell_type": "code",
   "execution_count": null,
   "id": "4bbbff06",
   "metadata": {},
   "outputs": [],
   "source": []
  },
  {
   "cell_type": "code",
   "execution_count": null,
   "id": "f7796574",
   "metadata": {},
   "outputs": [],
   "source": []
  },
  {
   "cell_type": "code",
   "execution_count": null,
   "id": "792cddd4",
   "metadata": {},
   "outputs": [],
   "source": []
  }
 ],
 "metadata": {
  "kernelspec": {
   "display_name": "Python 3 (ipykernel)",
   "language": "python",
   "name": "python3"
  },
  "language_info": {
   "codemirror_mode": {
    "name": "ipython",
    "version": 3
   },
   "file_extension": ".py",
   "mimetype": "text/x-python",
   "name": "python",
   "nbconvert_exporter": "python",
   "pygments_lexer": "ipython3",
   "version": "3.9.18"
  }
 },
 "nbformat": 4,
 "nbformat_minor": 5
}
